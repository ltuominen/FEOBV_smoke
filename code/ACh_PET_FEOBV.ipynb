{
 "cells": [
  {
   "cell_type": "code",
   "execution_count": 1,
   "id": "75501521-eb66-4f21-8bbe-13fc842bf8c1",
   "metadata": {},
   "outputs": [],
   "source": [
    "# PET scans "
   ]
  },
  {
   "cell_type": "code",
   "execution_count": 2,
   "id": "8df6f372-32d2-4dc6-89ff-8cf8308ef69e",
   "metadata": {},
   "outputs": [],
   "source": [
    "import numpy as np\n",
    "import pandas as pd\n",
    "import os\n",
    "\n",
    "import warnings \n",
    "warnings.filterwarnings(\"ignore\", category=DeprecationWarning)\n",
    "warnings.filterwarnings(\"ignore\", category=FutureWarning)\n",
    "\n",
    "from neuromaps.images import load_data, load_gifti, annot_to_gifti, relabel_gifti, construct_shape_gii\n",
    "from neuromaps.datasets import fetch_annotation\n",
    "from neuromaps.resampling import resample_images\n",
    "from neuromaps.nulls import alexander_bloch, burt2020\n",
    "from neuromaps.parcellate import Parcellater\n",
    "from scipy.stats import pearsonr\n",
    "from neuromaps import transforms \n",
    "from neuromaps.stats import compare_images\n",
    "from neuromaps.nulls import hungarian"
   ]
  },
  {
   "cell_type": "code",
   "execution_count": 3,
   "id": "c9b037eb-d355-4bbf-8812-b1e72d792fc8",
   "metadata": {},
   "outputs": [],
   "source": [
    "annotations = list(fetch_annotation(source=['hillmer2016',\n",
    "                                            'tuominen',\n",
    "                                            'naganawa2020']).keys())"
   ]
  },
  {
   "cell_type": "code",
   "execution_count": 4,
   "id": "42b37ae2-c99e-4c0e-981b-1413a0e3b739",
   "metadata": {},
   "outputs": [
    {
     "data": {
      "text/plain": [
       "[('hillmer2016', 'flubatine', 'MNI152', '1mm'),\n",
       " ('naganawa2020', 'lsn3172176', 'MNI152', '1mm'),\n",
       " ('tuominen', 'feobv', 'MNI152', '2mm')]"
      ]
     },
     "execution_count": 4,
     "metadata": {},
     "output_type": "execute_result"
    }
   ],
   "source": [
    "annotations"
   ]
  },
  {
   "cell_type": "code",
   "execution_count": 5,
   "id": "3247f5e7-c1c7-4a38-8e79-cfc654504326",
   "metadata": {},
   "outputs": [],
   "source": [
    "# define working dir \n",
    "base_path = os.path.dirname(os.getcwd())\n",
    "\n",
    "# create a object that will parcellate data into dk atlas\n",
    "dk_mni = os.path.join(base_path, 'parcellations', 'atlas-desikankilliany_space-MNI_res-1mm.nii.gz')\n",
    "parcellater_mni = Parcellater(dk_mni , 'MNI152')"
   ]
  },
  {
   "cell_type": "code",
   "execution_count": 20,
   "id": "b62782d4-3cc2-415f-8f57-6bc590a1fdc4",
   "metadata": {},
   "outputs": [],
   "source": [
    "# parcellate FEOBV data \n",
    "smoking_pctdiff_file = os.path.join(base_path, 'data', 'smoking_pctdiff.nii.gz')\n",
    "smoking_parc = parcellater_mni.fit_transform(smoking_pctdiff_file, space='MNI152', ignore_background_data=True)\n",
    "\n",
    "\n",
    "labels = pd.read_csv(os.path.join(base_path, 'parcellations','atlas-desikankilliany.csv') )\n",
    "labels['pctdiff'] = smoking_parc[0]\n",
    "labels = labels[labels['structure'] == 'cortex']\n",
    "labels\n",
    "\n",
    "smoking_parc = labels['pctdiff']"
   ]
  },
  {
   "cell_type": "code",
   "execution_count": 21,
   "id": "e53c310c-dc9f-4793-a369-4a9ba3675869",
   "metadata": {},
   "outputs": [
    {
     "data": {
      "text/plain": [
       "0     5.062069\n",
       "1     1.545742\n",
       "2     5.585381\n",
       "3     7.520157\n",
       "4    -0.441212\n",
       "        ...   \n",
       "70    6.541697\n",
       "71    3.729597\n",
       "72    4.260940\n",
       "73    3.277341\n",
       "74    2.641653\n",
       "Name: pctdiff, Length: 68, dtype: float64"
      ]
     },
     "execution_count": 21,
     "metadata": {},
     "output_type": "execute_result"
    }
   ],
   "source": [
    "smoking_parc"
   ]
  },
  {
   "cell_type": "code",
   "execution_count": 22,
   "id": "5da1916f-d666-4691-a5cc-d7ef7cc0f153",
   "metadata": {},
   "outputs": [],
   "source": [
    "# download the regions for MNI152, take indecies of surface rois  \n",
    "rois = pd.read_csv(os.path.join(base_path, 'parcellations' ,'atlas-desikankilliany.csv'))\n",
    "rois = rois[(rois['structure'] == 'cortex')].index.to_numpy()\n",
    "\n",
    "parcellated = dict([])\n",
    "for (src, desc, space, den) in annotations:\n",
    "    annot = fetch_annotation(source=src, desc=desc, space=space, den=den)\n",
    "    parcellated[desc] = parcellater_mni.fit_transform(annot, space=space, ignore_background_data=True)\n",
    "\n",
    "    # if subcortex included remove \n",
    "    if parcellated[desc].shape == (1,83):\n",
    "        parcellated[desc] = parcellated[desc][0][rois]"
   ]
  },
  {
   "cell_type": "code",
   "execution_count": 23,
   "id": "1146cf4a-e3c9-4b24-9666-861e7075d137",
   "metadata": {},
   "outputs": [
    {
     "name": "stdout",
     "output_type": "stream",
     "text": [
      "(68,)\n"
     ]
    },
    {
     "data": {
      "text/plain": [
       "(68,)"
      ]
     },
     "execution_count": 23,
     "metadata": {},
     "output_type": "execute_result"
    }
   ],
   "source": [
    "print(smoking_parc.shape)\n",
    "parcellated['flubatine'].shape"
   ]
  },
  {
   "cell_type": "code",
   "execution_count": 28,
   "id": "4f2ad094-508b-4c47-8ab0-887aff92bc94",
   "metadata": {},
   "outputs": [],
   "source": [
    "spins = pd.read_csv(os.path.join(base_path, 'parcellations','spins_hungarian_aparc+aseg_ctx.csv'), header=None)\n",
    "nspins = spins.values.shape[1]"
   ]
  },
  {
   "cell_type": "code",
   "execution_count": 25,
   "id": "1dbb70a8-118a-4dd7-a10c-645690aead29",
   "metadata": {},
   "outputs": [],
   "source": [
    "\n",
    "def load_atlas(base_path):\n",
    "    \"\"\"\n",
    "    Load different parcellation files.\n",
    "    \"\"\"    \n",
    "    atlas= {\n",
    "        'dk_fsaverage_10k': (\n",
    "            os.path.join(base_path, 'parcellations', 'atlas-desikankilliany_space-fsaverage_den-10k_hemi-L.label.gii.gz'),\n",
    "            os.path.join(base_path, 'parcellations', 'atlas-desikankilliany_space-fsaverage_den-10k_hemi-R.label.gii.gz')\n",
    "    ),\n",
    "    'dk_fsaverage_164k': (\n",
    "            os.path.join(base_path, 'parcellations', 'atlas-desikankilliany_space-fsaverage_den-164k_hemi-L.aparc-1.annot'),\n",
    "            os.path.join(base_path, 'parcellations', 'atlas-desikankilliany_space-fsaverage_den-164k_hemi-R.aparc-1.annot')\n",
    "    ),\n",
    "    'dk_mni': os.path.join(base_path, 'parcellations', 'atlas-desikankilliany_space-MNI_res-1mm.nii.gz')\n",
    "    }\n",
    "    return (atlas) \n",
    "\n",
    "# create parcellaters \n",
    "def create_parcellaters(atlas):\n",
    "    dk_fsaverage_10k = relabel_gifti(atlas['dk_fsaverage_10k'])\n",
    "    parcellater_fs10k = Parcellater(dk_fsaverage_10k, 'fsaverage')\n",
    "    \n",
    "    dk_fsaverage_164k = annot_to_gifti(atlas['dk_fsaverage_164k'])  \n",
    "    parcellater_fs164k = Parcellater(dk_fsaverage_164k, 'fsaverage')\n",
    "\n",
    "    parcellater_mni = Parcellater(atlas['dk_mni'], 'MNI152')\n",
    "    return (parcellater_fs10k, parcellater_fs164k, parcellater_mni) \n",
    "\n",
    "    \n",
    "# load atlas \n",
    "atlas = load_atlas(base_path)"
   ]
  },
  {
   "cell_type": "code",
   "execution_count": 26,
   "id": "e5f0dd4c-60f4-4fc6-9eba-b20ae1fa36ee",
   "metadata": {},
   "outputs": [],
   "source": [
    "def calc_corrs(annotations, parc):\n",
    "    \"\"\"\n",
    "    Calculate correlations & nulls between parcellated annotations & \n",
    "    parcellated antipsychotic effects on cortical thickness \n",
    "    \"\"\"\n",
    "\n",
    "    # initialize\n",
    "    nulls = dict([])\n",
    "    corrs = dict([])\n",
    "    \n",
    "    # go over annotations \n",
    "    for src, desc, space, den in annotations:\n",
    "        if space == 'MNI152':\n",
    "            parcellation=atlas['dk_mni']\n",
    "            \n",
    "        elif space == 'fsaverage' and den == '164k':\n",
    "            parcellation=atlas['dk_fsaverage_164k']\n",
    "            \n",
    "        elif space == 'fsLR' and den == '164k':\n",
    "            parcellation=atlas['dk_fsaverage_164k']\n",
    "            \n",
    "        elif space == 'fsLR' and den != '164k':\n",
    "            parcellation=atlas['dk_fsaverage_10k']\n",
    "        \n",
    "        # empirical correlation between annotations and parc\n",
    "        rho = pearsonr(parcellated[desc], parc)[0]\n",
    "        \n",
    "        # get 10k rotations \n",
    "        rotated = hungarian(data=parcellated[desc], n_perm=10000, spins=spins, parcellation=parcellation) \n",
    "        \n",
    "        # get null \n",
    "        n = np.zeros((nspins, ))\n",
    "        for i in range(nspins):\n",
    "            n[i] = pearsonr(parc, rotated[:,i])[0]    \n",
    "        \n",
    "        # get p-value\n",
    "        pspin = (1 + sum(abs(n) > abs(rho ))) / (nspins + 1)\n",
    "    \n",
    "        # store, multiply by -1 to make more intuitive, because smaller p-value/rho means bigger effect  \n",
    "        corrs[src+'_'+desc] = ( (-1 * rho, pspin ) )\n",
    "        nulls[src+'_'+desc] = n\n",
    "        \n",
    "    return(nulls, corrs)"
   ]
  },
  {
   "cell_type": "code",
   "execution_count": 29,
   "id": "bbe0ddea-2234-4361-8e6b-a5fc0f8be733",
   "metadata": {},
   "outputs": [],
   "source": [
    "nulls_smoking, corrs_smoking = calc_corrs(annotations, smoking_parc)"
   ]
  },
  {
   "cell_type": "code",
   "execution_count": 30,
   "id": "627acd91-f2dd-4469-8b38-c5f34eba755e",
   "metadata": {},
   "outputs": [
    {
     "data": {
      "text/plain": [
       "{'hillmer2016_flubatine': (-0.0662468273325731, 0.595940405959404),\n",
       " 'naganawa2020_lsn3172176': (-0.23934712113084428, 0.05299470052994701),\n",
       " 'tuominen_feobv': (0.35986820255642477, 0.0022997700229977)}"
      ]
     },
     "execution_count": 30,
     "metadata": {},
     "output_type": "execute_result"
    }
   ],
   "source": [
    "corrs_smoking"
   ]
  },
  {
   "cell_type": "code",
   "execution_count": null,
   "id": "a20bab62-19c1-4d07-966d-0cd236c19e20",
   "metadata": {},
   "outputs": [],
   "source": []
  }
 ],
 "metadata": {
  "kernelspec": {
   "display_name": "Python 3 (ipykernel)",
   "language": "python",
   "name": "python3"
  },
  "language_info": {
   "codemirror_mode": {
    "name": "ipython",
    "version": 3
   },
   "file_extension": ".py",
   "mimetype": "text/x-python",
   "name": "python",
   "nbconvert_exporter": "python",
   "pygments_lexer": "ipython3",
   "version": "3.10.12"
  }
 },
 "nbformat": 4,
 "nbformat_minor": 5
}
