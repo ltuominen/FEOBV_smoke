{
 "cells": [
  {
   "cell_type": "code",
   "execution_count": null,
   "id": "f13a587d-935e-4b85-aebc-698c758af4ca",
   "metadata": {},
   "outputs": [],
   "source": [
    "# autoradiography \n"
   ]
  },
  {
   "cell_type": "code",
   "execution_count": 2,
   "id": "61e2b75b-5934-46ea-b4ab-ff2bee02fbd9",
   "metadata": {},
   "outputs": [],
   "source": [
    "import numpy as np\n",
    "import pandas as pd\n",
    "from scipy.stats import zscore, spearmanr\n",
    "from statsmodels.stats.multitest import multipletests\n",
    "from netneurotools import datasets, utils, stats\n",
    "import os"
   ]
  },
  {
   "cell_type": "code",
   "execution_count": 5,
   "id": "71c2aad7-c3a0-485c-bfac-14fe41fc5559",
   "metadata": {},
   "outputs": [],
   "source": [
    "base_path = os.path.dirname(os.getcwd())\n",
    "receptor_names_a = np.load(base_path+'/data/autoradiography/ReceptorNames.npy').tolist()\n",
    "autorad_data = np.load(base_path+'/data/autoradiography/autorad_data.npy')"
   ]
  },
  {
   "cell_type": "code",
   "execution_count": 6,
   "id": "d7d63502-0080-4d99-abfc-337f73b98801",
   "metadata": {},
   "outputs": [
    {
     "data": {
      "text/plain": [
       "['AMPA',\n",
       " 'NMDA',\n",
       " 'kainate',\n",
       " 'GABAa',\n",
       " 'GABAa/BZ',\n",
       " 'GABAb',\n",
       " 'm1',\n",
       " 'm2',\n",
       " 'm3',\n",
       " 'a4b2',\n",
       " 'a1',\n",
       " 'a2',\n",
       " '5-HT1a',\n",
       " '5-HT2',\n",
       " 'D1']"
      ]
     },
     "execution_count": 6,
     "metadata": {},
     "output_type": "execute_result"
    }
   ],
   "source": [
    "receptor_names_a"
   ]
  },
  {
   "cell_type": "code",
   "execution_count": 8,
   "id": "430e5f32-becc-4420-bcb4-353c576082c8",
   "metadata": {},
   "outputs": [
    {
     "data": {
      "text/plain": [
       "(33, 15)"
      ]
     },
     "execution_count": 8,
     "metadata": {},
     "output_type": "execute_result"
    }
   ],
   "source": [
    "autorad_data.shape"
   ]
  },
  {
   "cell_type": "code",
   "execution_count": null,
   "id": "de86c10c-1f33-4ea2-90a7-50b26563a064",
   "metadata": {},
   "outputs": [],
   "source": []
  }
 ],
 "metadata": {
  "kernelspec": {
   "display_name": "Python 3 (ipykernel)",
   "language": "python",
   "name": "python3"
  },
  "language_info": {
   "codemirror_mode": {
    "name": "ipython",
    "version": 3
   },
   "file_extension": ".py",
   "mimetype": "text/x-python",
   "name": "python",
   "nbconvert_exporter": "python",
   "pygments_lexer": "ipython3",
   "version": "3.10.12"
  }
 },
 "nbformat": 4,
 "nbformat_minor": 5
}
