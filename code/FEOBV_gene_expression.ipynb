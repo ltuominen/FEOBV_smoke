{
 "cells": [
  {
   "cell_type": "markdown",
   "id": "c6407ef6-b9a5-4c48-b3ad-4e5086407c40",
   "metadata": {},
   "source": [
    "Plan:\n",
    "1. get FEOBV HC vs Smokers difference map in MNI152 space\n",
    "2. Parcellate the difference map using a DK atlas in MNI152 space\n",
    "3. Select only left hemisphere of the parcellation\n",
    "\n",
    "4. get gene expression scale033 data from Justine's paper\n",
    "5. Convert expression data to DK atlas\n",
    "\n",
    "6. Correlate FEOBV parcellation with gene expression using spin tests"
   ]
  },
  {
   "cell_type": "code",
   "execution_count": null,
   "id": "3f712664-13cc-4b74-99ad-04ad953a31f0",
   "metadata": {},
   "outputs": [],
   "source": []
  },
  {
   "cell_type": "code",
   "execution_count": null,
   "id": "ad1f613f-d113-433f-b5ac-ab8efd5b6dfb",
   "metadata": {},
   "outputs": [],
   "source": []
  }
 ],
 "metadata": {
  "kernelspec": {
   "display_name": "Python 3 (ipykernel)",
   "language": "python",
   "name": "python3"
  },
  "language_info": {
   "codemirror_mode": {
    "name": "ipython",
    "version": 3
   },
   "file_extension": ".py",
   "mimetype": "text/x-python",
   "name": "python",
   "nbconvert_exporter": "python",
   "pygments_lexer": "ipython3",
   "version": "3.10.12"
  }
 },
 "nbformat": 4,
 "nbformat_minor": 5
}
